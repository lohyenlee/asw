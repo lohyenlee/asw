{
 "cells": [
  {
   "cell_type": "code",
   "execution_count": 1,
   "id": "bb9cc5df-35ab-4916-a42e-2e84c215a263",
   "metadata": {},
   "outputs": [],
   "source": [
    "#!/usr/bin/env python3\n",
    "import os,sys,re\n",
    "import numpy as np\n",
    "import matplotlib.pyplot as plt"
   ]
  },
  {
   "cell_type": "code",
   "execution_count": 29,
   "id": "d28ec857-ffd5-4b57-a5b4-6e7a30a7ddd5",
   "metadata": {},
   "outputs": [],
   "source": [
    "#======== ESTIMATE ERROR FROM CORRELATED DATA\n",
    "def estimateError (timeSeries, numBlocks=10):\n",
    "  timeSeries = np.array (timeSeries)\n",
    "  n = timeSeries.size\n",
    "  if (n < numBlocks*2):\n",
    "    return \"NOT ENOUGH DATA POINTS TO PARTITION INTO numBlocks BLOCKS!\"\n",
    "  blocks = np.split(timeSeries, np.floor(np.arange(n/numBlocks,n,n/numBlocks)).astype(int))\n",
    "  blockVars = []\n",
    "  for block in blocks:\n",
    "    blockMean = np.mean (block)\n",
    "    blockVar = np.var (block, ddof=1)\n",
    "    blockVars += [blockVar]\n",
    "  meanBlockVar = np.mean (blockVars)\n",
    "  return np.sqrt(meanBlockVar/numBlocks)"
   ]
  },
  {
   "cell_type": "code",
   "execution_count": 30,
   "id": "c1091a6d-316f-4933-9209-526d0212de2a",
   "metadata": {},
   "outputs": [
    {
     "name": "stdout",
     "output_type": "stream",
     "text": [
      "dataDir=h0.0001   h=  0.0001   Mavg=  0.0757   Merr=  0.1938\n",
      "dataDir=h0.0002   h=  0.0002   Mavg=  0.1352   Merr=  0.1923\n",
      "dataDir=h0.0003   h=  0.0003   Mavg=  0.2073   Merr=  0.1883\n",
      "dataDir=h0.0004   h=  0.0004   Mavg=  0.2650   Merr=  0.1815\n",
      "dataDir=h0.0005   h=  0.0005   Mavg=  0.3193   Merr=  0.1717\n",
      "dataDir=h0.0006   h=  0.0006   Mavg=  0.3875   Merr=  0.1593\n",
      "dataDir=h0.0007   h=  0.0007   Mavg=  0.4263   Merr=  0.1469\n",
      "dataDir=h0.0008   h=  0.0008   Mavg=  0.4417   Merr=  0.1451\n",
      "dataDir=h0.0009   h=  0.0009   Mavg=  0.4828   Merr=  0.1309\n",
      "dataDir=h0.001    h=   0.001   Mavg=  0.5190   Merr=  0.1242\n",
      "dataDir=h0.002    h=   0.002   Mavg=  0.6450   Merr=  0.0562\n",
      "dataDir=h0.003    h=   0.003   Mavg=  0.6779   Merr=  0.0346\n",
      "dataDir=h0.004    h=   0.004   Mavg=  0.6918   Merr=  0.0267\n",
      "dataDir=h0.005    h=   0.005   Mavg=  0.7050   Merr=  0.0221\n",
      "dataDir=h0.006    h=   0.006   Mavg=  0.7127   Merr=  0.0213\n",
      "dataDir=h0.007    h=   0.007   Mavg=  0.7162   Merr=  0.0199\n",
      "dataDir=h0.008    h=   0.008   Mavg=  0.7253   Merr=  0.0186\n",
      "dataDir=h0.009    h=   0.009   Mavg=  0.7333   Merr=  0.0171\n",
      "dataDir=h0.01     h=    0.01   Mavg=  0.7383   Merr=  0.0165\n",
      "dataDir=h0.02     h=    0.02   Mavg=  0.7719   Merr=  0.0117\n",
      "dataDir=h0.03     h=    0.03   Mavg=  0.7913   Merr=  0.0096\n",
      "dataDir=h0.04     h=    0.04   Mavg=  0.8073   Merr=  0.0085\n",
      "dataDir=h0.05     h=    0.05   Mavg=  0.8194   Merr=  0.0077\n",
      "dataDir=h0.06     h=    0.06   Mavg=  0.8292   Merr=  0.0070\n",
      "dataDir=h0.07     h=    0.07   Mavg=  0.8367   Merr=  0.0064\n",
      "dataDir=h0.08     h=    0.08   Mavg=  0.8437   Merr=  0.0060\n",
      "dataDir=h0.09     h=    0.09   Mavg=  0.8509   Merr=  0.0057\n",
      "dataDir=h0.1      h=     0.1   Mavg=  0.8558   Merr=  0.0054\n",
      "dataDir=h0.2      h=     0.2   Mavg=  0.8927   Merr=  0.0038\n",
      "dataDir=h0.3      h=     0.3   Mavg=  0.9138   Merr=  0.0031\n",
      "dataDir=h0.4      h=     0.4   Mavg=  0.9279   Merr=  0.0026\n",
      "dataDir=h0.5      h=     0.5   Mavg=  0.9387   Merr=  0.0023\n",
      "dataDir=h0.6      h=     0.6   Mavg=  0.9470   Merr=  0.0021\n",
      "dataDir=h0.7      h=     0.7   Mavg=  0.9538   Merr=  0.0018\n",
      "dataDir=h0.8      h=     0.8   Mavg=  0.9593   Merr=  0.0017\n",
      "dataDir=h0.9      h=     0.9   Mavg=  0.9642   Merr=  0.0015\n",
      "dataDir=h1.0      h=       1   Mavg=  0.9681   Merr=  0.0014\n",
      "data.shape =  (37, 5)\n"
     ]
    }
   ],
   "source": [
    "#======== READ MONTE CARLO PARAMETERS AND TRAJECTORIES FROM DATA DIRECTORIES\n",
    "codeDir = os.getcwd()\n",
    "dataDirList = sorted ( os.listdir(\"DATA\") )\n",
    "data = np.empty ([0,5])       # prepare to add stats lines of 5 elements each\n",
    "for dataDir in dataDirList:\n",
    "  dataPath = \"DATA/\" + dataDir\n",
    "\n",
    "  #-------- READ PARAMETERS h, xmax, ymax\n",
    "  with open(dataPath + \"/pars.dat\") as f:\n",
    "    s = f.read()\n",
    "  match = re.search ('field\\s*=\\s*(.*)', s); h = float (match.group(1))\n",
    "  match = re.search ('xmax\\s*=\\s*(.*)', s);  xmax = float (match.group(1))\n",
    "  match = re.search ('ymax\\s*=\\s*(.*)', s);  ymax = float (match.group(1))\n",
    "  \n",
    "  #-------- READ TRAJECTORIES M(t), U(t)\n",
    "  trajs = np.loadtxt(dataPath + \"/history.dat\")\n",
    "  M = trajs[5000:,0]   # discard first 1000 MCS\n",
    "  Mavg = np.mean(M).item() / (xmax*ymax)\n",
    "  Merr = estimateError (M) / (xmax*ymax)\n",
    "  \n",
    "  U = trajs[5000:,1]\n",
    "  Uavg = np.mean(U).item() / (xmax*ymax)\n",
    "  Uerr = estimateError (U) / (xmax*ymax)\n",
    "  \n",
    "  print (\"dataDir={:8s}  h={:8g}   Mavg={:8.4f}   Merr={:8.4f}\".\n",
    "          format (dataDir, h, Mavg, Merr, Uavg, Uerr))\n",
    "\n",
    "  data = np.append (data, [[h, Mavg, Merr, Uavg, Uerr]], axis=0)\n",
    "\n",
    "print (\"data.shape = \", data.shape)\n",
    "[h,Mavg,Merr,Uavg,Uerr] = np.transpose(data)"
   ]
  },
  {
   "cell_type": "code",
   "execution_count": 33,
   "id": "a2a8726b-1dc8-40b9-b87c-e60d608a37e4",
   "metadata": {},
   "outputs": [
    {
     "data": {
      "text/plain": [
       "Text(0.5, 1.0, 'M(h) and U(h) for 2D Ising model at Tc')"
      ]
     },
     "execution_count": 33,
     "metadata": {},
     "output_type": "execute_result"
    },
    {
     "data": {
      "image/png": "[encoded data removed]",
      "text/plain": [
       "<Figure size 432x288 with 1 Axes>"
      ]
     },
     "metadata": {
      "needs_background": "light"
     },
     "output_type": "display_data"
    }
   ],
   "source": [
    "#======== PLOT DATA\n",
    "plt.errorbar (h,Mavg,Merr,linewidth=1,capsize=3,label=\"Magnetic moment M\")\n",
    "plt.errorbar (h,Uavg,Uerr,linewidth=1,capsize=3,label=\"Energy U\")\n",
    "plt.xscale(\"log\")\n",
    "plt.xlabel(\"Field h\")\n",
    "plt.legend(loc=\"center right\")  "
   ]
  },
  {
   "cell_type": "code",
   "execution_count": null,
   "id": "62fc9c57-2e24-48df-8d19-5f115fb9e181",
   "metadata": {},
   "outputs": [],
   "source": []
  }
 ],
 "metadata": {
  "kernelspec": {
   "display_name": "Python 3 (ipykernel)",
   "language": "python",
   "name": "python3"
  },
  "language_info": {
   "codemirror_mode": {
    "name": "ipython",
    "version": 3
   },
   "file_extension": ".py",
   "mimetype": "text/x-python",
   "name": "python",
   "nbconvert_exporter": "python",
   "pygments_lexer": "ipython3",
   "version": "3.9.12"
  }
 },
 "nbformat": 4,
 "nbformat_minor": 5
}
